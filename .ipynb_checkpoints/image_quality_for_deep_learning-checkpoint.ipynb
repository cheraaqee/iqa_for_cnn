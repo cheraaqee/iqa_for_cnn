{
 "cells": [
  {
   "cell_type": "markdown",
   "id": "7c041f7e",
   "metadata": {},
   "source": [
    "# Image Quality for Deep Learning\n",
    "Deep learning feeds on images for performing computer vision tasks. The quality of these input images can be affective in the performance of the networks. Devising a computational model that can predict the performance of CNN on the input image, based on the quality of the image, can be helpful in applying deep learning models.  \n"
   ]
  },
  {
   "cell_type": "code",
   "execution_count": null,
   "id": "c67e6ef1",
   "metadata": {},
   "outputs": [],
   "source": []
  }
 ],
 "metadata": {
  "kernelspec": {
   "display_name": "Python 3 (ipykernel)",
   "language": "python",
   "name": "python3"
  },
  "language_info": {
   "codemirror_mode": {
    "name": "ipython",
    "version": 3
   },
   "file_extension": ".py",
   "mimetype": "text/x-python",
   "name": "python",
   "nbconvert_exporter": "python",
   "pygments_lexer": "ipython3",
   "version": "3.8.10"
  }
 },
 "nbformat": 4,
 "nbformat_minor": 5
}
